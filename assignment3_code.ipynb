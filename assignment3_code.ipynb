{
 "cells": [
  {
   "cell_type": "code",
   "execution_count": 43,
   "id": "8ec3386d-1bbd-4e72-afce-0e51a42fc894",
   "metadata": {},
   "outputs": [],
   "source": [
    "import pandas as pd\n",
    "import requests\n",
    "from bs4 import BeautifulSoup\n",
    "import csv\n"
   ]
  },
  {
   "cell_type": "code",
   "execution_count": 45,
   "id": "8ff62781-5274-4cf0-a715-108aa2f7690a",
   "metadata": {},
   "outputs": [],
   "source": [
    "# define a function for scraping elements\n",
    "def scrape_texts(url):\n",
    "    # send get request to the URL page\n",
    "    response = requests.get(url)\n",
    "    # get the text data formatted in the HTML markup language\n",
    "    html_str = response.text\n",
    "    \n",
    "    # make a BeautifulSoup document\n",
    "    document = BeautifulSoup(html_str, \"html.parser\")\n",
    "\n",
    "    # find different elements on the page\n",
    "    # extract the text and strip whitespace, return a message if the element is not found\n",
    "\n",
    "    # cerca come si aggiunge 1,2,3,... a 'afternoon dress' per distinguerli\n",
    "    title = document.find(\"span\", {\"class\": \"artwork__title--text js-artwork__title--text\"}) \n",
    "    title = title.text.strip() if title else 'Title not found'\n",
    "\n",
    "    description = document.find(\"div\", {\"class\": \"artwork__intro__desc js-artwork__intro__desc\", \"itemprop\": \"description\"})\n",
    "    description = description.text.strip() if description else 'Description not found'\n",
    "\n",
    "    culture = document.find(\"a\", {\"class\": \"gtm__artist_culture\"})\n",
    "    culture = culture.text.strip() if culture else 'Nationality not found'\n",
    "\n",
    "    year = document.find('span', {\"class\": \"artwork__creation-date\"})\n",
    "    year = year.text.strip() if year else 'Year not found'\n",
    "\n",
    "    image = document.find('div', {\"id\": \"artwork__image__wrapper\", \"class\": \"artwork__image__wrapper\"})\n",
    "    image_url = image.find('img')['src'] if image and image.find('img') and 'src' in image.find('img').attrs else 'Image_url not found'\n",
    "\n",
    "    # return a list of extracted elements\n",
    "    return [title, description, culture, year, image_url]\n",
    "        \n",
    "    \n",
    "    \n",
    "\n",
    "    \n",
    "    "
   ]
  },
  {
   "cell_type": "code",
   "execution_count": 47,
   "id": "f1f352bd-96f9-4a3c-ba49-6e04a368d632",
   "metadata": {},
   "outputs": [],
   "source": [
    "# list of URLs to scrape\n",
    "dresses_tag = [ \n",
    "    \"https://www.metmuseum.org/art/collection/search/106394\",\n",
    "    \"https://www.metmuseum.org/art/collection/search/107979\",\n",
    "    \"https://www.metmuseum.org/art/collection/search/159513\", \n",
    "    \"https://www.metmuseum.org/art/collection/search/159442\",\n",
    "    \"https://www.metmuseum.org/art/collection/search/159184\",\n",
    "    \"https://www.metmuseum.org/art/collection/search/155790\",\n",
    "    \"https://www.metmuseum.org/art/collection/search/85317\",\n",
    "    \"https://www.metmuseum.org/art/collection/search/159241\",\n",
    "    \"https://www.metmuseum.org/art/collection/search/174190\",\n",
    "    \"https://www.metmuseum.org/art/collection/search/159489\",\n",
    "    \"https://www.metmuseum.org/art/collection/search/81790\",\n",
    "    \"https://www.metmuseum.org/art/collection/search/106363\"\n",
    "]"
   ]
  },
  {
   "cell_type": "code",
   "execution_count": 49,
   "id": "0f757232-89dc-46b8-af6b-b6479fe9427e",
   "metadata": {},
   "outputs": [
    {
     "name": "stdout",
     "output_type": "stream",
     "text": [
      "['Afternoon dress', '', 'American or European', '1903–5', 'https://collectionapi.metmuseum.org/api/collection/v1/iiif/106394/354750/main-image']\n",
      "['Afternoon dress', '', 'American', '1835–36', 'https://collectionapi.metmuseum.org/api/collection/v1/iiif/107979/327341/main-image']\n",
      "['Afternoon dress', 'This is a very finely made example of a mid 1840s dress.  The significant highlights and very fine dressmaking details are the tightly fitted and shaped sleeves, tucked at the inner elbow for shape and movement, the fine piping that is at the inner sleeve seam, sleeve ends and shoulder seams, and the very fine and even cartridge pleating at the waist.  These elements combined with an elongated waist and V-shaped bust create a quintessential style of the period.The female silhouette of the middle of the 19th century consisted of a fitted corseted bodice and wide full skirts.  The conical skirts developed between the 1830s, when the high waist of the Empire silhouette was lowered and the skirts became more bell shaped, to the late 1860s, when the fullness of the skirts were pulled to the back and the bustle developed.  The flared skirts of the period gradually increased in size throughout and were supported by a number of methods.  Originally support came from multiple layers of petticoats which, due to weight and discomfort, were supplanted by underskirts comprised of graduated hoops made from materials such as baleen, cane and metal.  The fashions during this time allowed the textiles to stand out because of the vast surface areas of the skirt and a relatively minimal amount of excess trim.', 'American', 'ca. 1845', 'https://collectionapi.metmuseum.org/api/collection/v1/iiif/159513/333297/main-image']\n",
      "['Afternoon dress', 'The female silhouette of the middle of the 19th century consisted of a fitted corseted bodice and wide full skirts.  The conical skirts developed between the 1830s, when the high waist of the Empire silhouette was lowered and the skirts became more bell shaped, to the late 1860s, when the fullness of the skirts were pulled to the back and the bustle developed.  The flared skirts of the period gradually increased in size throughout and were supported by a number of methods.  Originally support came from multiple layers of petticoats which, due to weight and discomfort, were supplanted by underskirts comprised of graduated hoops made from materials such as baleen, cane and metal.  The fashions during this time allowed the textiles to stand out because of the vast surface areas of the skirt and a relatively minimal amount of excess trim.', 'American', 'ca. 1855', 'https://collectionapi.metmuseum.org/api/collection/v1/iiif/159442/334125/main-image']\n",
      "['Afternoon dress', 'The bustle silhouette, although primarily associated with the second half of the 19th century, originated in earlier fashions as a simple bump at the back of the dress, such as with late 17th-early 18th century mantuas and late 18th- early 19th century Empire dresses.  The full-blown bustle silhouette had its first Victorian appearance in the late 1860s, which started as fullness in skirts moving to the back of the dress.  This fullness was drawn up in ties for walking that created a fashionable puff.  This trendsetting puff expanded and was then built up with supports from a variety of different things such as horsehair, metal hoops and down.  Styles of this period were often taken from historical inspiration and covered in various types of trim and lace.  Accessories were petite and allowed for the focus on the large elaborate gowns.  Around 1874, the style altered and the skirts began to hug the thighs in the front while the bustle at the back was reduced to a natural flow from the waist to the train.  This period was marked by darker colors, asymmetrical drapery, oversize accessories and elongated forms created by full-length coats.  Near the beginning of the 1880s the trends altered once again to include the bustle, this time it would reach its maximum potential with some skirts having the appearance of a full shelf at the back.  The dense textiles preferred were covered in trimming, beadwork, puffs and bows to visually elevate them further.  The feminine silhouette continued like this through 1889 before the skirts began to reduce and make way for the S-curve silhouette.', 'American', 'ca. 1865', 'https://collectionapi.metmuseum.org/api/collection/v1/iiif/159184/331830/main-image']\n",
      "['Afternoon dress', \"The extraordinary color and variety of textiles in the stunning afternoon dress attest to the refinement of the French textile industry.  Fine variations between the satin and bengaline illustrate how Worth built his reputation on subtlety and luxury.  The bustle silhouette, although primarily associated with the second half of the 19th century, originated in earlier fashions as a simple bump at the back of the dress, such as with late 17th-early 18th century mantuas and late 18th- early 19th century Empire dresses.  The full-blown bustle silhouette had its first Victorian appearance in the late 1860s, which started as fullness in skirts moving to the back of the dress.  This fullness was drawn up in ties for walking that created a fashionable puff.  This trendsetting puff expanded and was then built up with supports from a variety of different things such as horsehair, metal hoops and down.  Styles of this period were often taken from historical inspiration and covered in various types of trim and lace.  Accessories were petite and allowed for the focus on the large elaborate gowns.  Around 1874, the style altered and the skirts began to hug the thighs in the front while the bustle at the back was reduced to a natural flow from the waist to the train.  This period was marked by darker colors, asymmetrical drapery, oversize accessories and elongated forms created by full-length coats.  Near the beginning of the 1880s the trends altered once again to include the bustle, this time it would reach its maximum potential with some skirts having the appearance of a full shelf at the back.  The dense textiles preferred were covered in trimming, beadwork, puffs and bows to visually elevate them further.  The feminine silhouette continued like this through 1889 before the skirts began to reduce and make way for the S-curve silhouette.  Charles Frederick Worth was born in England and spent his young adulthood working for textile merchants in London while researching art history at museums.  In 1845 he moved to Paris and worked as a salesman and a dressmaker before partnering with Otto Bobergh to open the dressmaking shop, Worth and Bobergh, in 1858.  They were soon recognized by royalty and major success followed.  In 1870 Worth became the sole proprietor of the business.  At his shop, Worth fashioned completed creations which he then showed to clients on live models.  Clients could then order their favorites according to their own specifications.  This method is the origin of haute couture. Worth designed gowns which were works of art that implemented a perfect play of colors and textures created by meticulously chosen textiles and trims.  The sheer volume of the textiles he employed on each dress is testimony to his respect and support of the textile industry.  Worth's creative output maintained its standard and popularity throughout his life. The business continued under the direction of his sons, grandsons and great-grandsons through the first half of the twentieth century.\", 'Nationality not found', 'ca. 1872', 'https://collectionapi.metmuseum.org/api/collection/v1/iiif/155790/331694/main-image']\n",
      "['Afternoon dress', 'The popularity of black in the second half of the nineteenth century was stimulated by the introduction of chemical dyes of that color in the 1860s. While tasteful and timeless, black remained associated with death and the garb of the widow—a woman often imagined as dangerously independent and alluring. Appropriate for third-stage mourning, this black silk faille dress blurs the distinction between mourning and fashion, and its original use remains unknown. Cut with princess seams, the dress forms the tight, smooth fit over the hips that epitomized late 1870s fashions.', 'American', '1876–78', 'https://collectionapi.metmuseum.org/api/collection/v1/iiif/85317/1386988/main-image']\n",
      "['Afternoon dress', 'The bustle silhouette, although primarily associated with the second half of the 19th century, originated in earlier fashions as a simple bump at the back of the dress, such as with late 17th-early 18th century mantuas and late 18th- early 19th century Empire dresses.  The full-blown bustle silhouette had its first Victorian appearance in the late 1860s, which started as fullness in skirts moving to the back of the dress.  This fullness was drawn up in ties for walking that created a fashionable puff.  This trendsetting puff expanded and was then built up with supports from a variety of different things such as horsehair, metal hoops and down.  Styles of this period were often taken from historical inspiration and covered in various types of trim and lace.  Accessories were petite and allowed for the focus on the large elaborate gowns.  Around 1874, the style altered and the skirts began to hug the thighs in the front while the bustle at the back was reduced to a natural flow from the waist to the train.  This period was marked by darker colors, asymmetrical drapery, oversize accessories and elongated forms created by full-length coats.  Near the beginning of the 1880s the trends altered once again to include the bustle, this time it would reach its maximum potential with some skirts having the appearance of a full shelf at the back.  The dense textiles preferred were covered in trimming, beadwork, puffs and bows to visually elevate them further.  The feminine silhouette continued like this through 1889 before the skirts began to reduce and make way for the S-curve silhouette.', 'Nationality not found', 'ca. 1885', 'https://collectionapi.metmuseum.org/api/collection/v1/iiif/159241/332929/main-image']\n",
      "['Afternoon dress', '', 'American', '1890–93', 'https://collectionapi.metmuseum.org/api/collection/v1/iiif/174190/374360/main-image']\n",
      "['Afternoon dress', '', 'Nationality not found', '1898–1900', 'https://collectionapi.metmuseum.org/api/collection/v1/iiif/159489/334259/main-image']\n",
      "['Afternoon dress', '', 'American', '1901', 'https://collectionapi.metmuseum.org/api/collection/v1/iiif/81790/1307849/main-image']\n",
      "['Afternoon dress', '', 'Chinese', 'ca. 1910', 'https://collectionapi.metmuseum.org/api/collection/v1/iiif/106363/351565/main-image']\n"
     ]
    }
   ],
   "source": [
    "# initialize an empty list to store the scraped data, loop through the URLs in the list, \n",
    "# call the defined function, and append results to the list \n",
    "dresses = []\n",
    "for url in dresses_tag:\n",
    "    line = scrape_texts(url)\n",
    "    dresses.append(line)\n",
    "\n",
    "# test the code\n",
    "for url in dresses:\n",
    "    print(url)"
   ]
  },
  {
   "cell_type": "code",
   "execution_count": 51,
   "id": "6d2a80dd-2ca2-4631-a8b8-db67f83abf25",
   "metadata": {},
   "outputs": [],
   "source": [
    "# create a dataframe \n",
    "dresses_df = pd.DataFrame(dresses, columns=['Title', 'Description', 'Culture', 'Year', 'Image URL'])\n",
    "# export dataframe to csv file\n",
    "dresses_df.to_csv(\"afternoon_dresses_MET.csv\")\n",
    "                    "
   ]
  }
 ],
 "metadata": {
  "kernelspec": {
   "display_name": "Python 3 (ipykernel)",
   "language": "python",
   "name": "python3"
  },
  "language_info": {
   "codemirror_mode": {
    "name": "ipython",
    "version": 3
   },
   "file_extension": ".py",
   "mimetype": "text/x-python",
   "name": "python",
   "nbconvert_exporter": "python",
   "pygments_lexer": "ipython3",
   "version": "3.12.4"
  }
 },
 "nbformat": 4,
 "nbformat_minor": 5
}
